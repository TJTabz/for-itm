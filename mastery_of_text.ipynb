{
 "cells": [
  {
   "cell_type": "code",
   "execution_count": 6,
   "id": "e1f8ba09-8770-4267-b789-a1f6376fe713",
   "metadata": {},
   "outputs": [
    {
     "name": "stdout",
     "output_type": "stream",
     "text": [
      "1. Number of lines: 99968\n",
      "2. Number of words: 795227\n",
      "3. 'apostle' occurrences: 47\n",
      "4. Most common word: 'the' (appears 64309 times)\n"
     ]
    }
   ],
   "source": [
    "import urllib.request\n",
    "url = \"https://www.gutenberg.org/cache/epub/10/pg10.txt\"\n",
    "with urllib.request.urlopen(url) as response:\n",
    "    data = response.read()\n",
    "    pg10 = data.decode('utf-8')\n",
    "\n",
    "lines = pg10.splitlines()\n",
    "num_lines = len(lines)\n",
    "print(f\"1. Number of lines: {num_lines}\")\n",
    "\n",
    "transformed_text = ''.join(c if c.isalpha() else ' ' for c in pg10)\n",
    "words = transformed_text.lower().split()\n",
    "num_words = len(words)\n",
    "print(f\"2. Number of words: {num_words}\")\n",
    "\n",
    "apostle_count = words.count(\"apostle\")\n",
    "print(f\"3. 'apostle' occurrences: {apostle_count}\")\n",
    "\n",
    "word_freq = {}\n",
    "for word in words:\n",
    "    word_freq[word] = word_freq.get(word, 0) + 1\n",
    "most_common_word = max(word_freq, key=word_freq.get)\n",
    "most_common_count = word_freq[most_common_word]\n",
    "print(f\"4. Most common word: '{most_common_word}' (appears {most_common_count} times)\")"
   ]
  },
  {
   "cell_type": "code",
   "execution_count": null,
   "id": "22b485c5-4838-44b4-91d3-12e7f8e348e0",
   "metadata": {},
   "outputs": [],
   "source": []
  }
 ],
 "metadata": {
  "kernelspec": {
   "display_name": "Python [conda env:base] *",
   "language": "python",
   "name": "conda-base-py"
  },
  "language_info": {
   "codemirror_mode": {
    "name": "ipython",
    "version": 3
   },
   "file_extension": ".py",
   "mimetype": "text/x-python",
   "name": "python",
   "nbconvert_exporter": "python",
   "pygments_lexer": "ipython3",
   "version": "3.12.7"
  }
 },
 "nbformat": 4,
 "nbformat_minor": 5
}
